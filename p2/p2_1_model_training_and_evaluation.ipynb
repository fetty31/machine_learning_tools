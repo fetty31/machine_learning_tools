{
 "cells": [
  {
   "cell_type": "markdown",
   "metadata": {
    "id": "uW4GoRicSM4g"
   },
   "source": [
    "# **T2.1 Model training & evaluation**"
   ]
  },
  {
   "cell_type": "markdown",
   "metadata": {
    "id": "zqhqhWhsSpDH"
   },
   "source": [
    "# **Task 1: Classification model performance analysis on the iris dataset**\n",
    "\n",
    "In this task, we are going to consider the well-know iris dataset. Additionally, we are going to implement a simple k-NN algorithm and use common scores to validate the performance.\n",
    "\n",
    "\n",
    "https://scikit-learn.org/stable/modules/generated/sklearn.datasets.load_iris.html\n",
    "\n",
    "The following lines load the data:"
   ]
  },
  {
   "cell_type": "code",
   "execution_count": 16,
   "metadata": {
    "id": "IZ-c3vH-SJZx"
   },
   "outputs": [],
   "source": [
    "from sklearn.datasets import load_iris\n",
    "iris = load_iris()\n",
    "x = iris.data\n",
    "y = iris.target\n"
   ]
  },
  {
   "cell_type": "markdown",
   "metadata": {
    "id": "SzhLuqbsV-3H"
   },
   "source": [
    "**1)** Generate  a k-NN model considering just one neighbor (k=1)\n",
    "\n",
    " https://scikit-learn.org/stable/modules/generated/sklearn.neighbors.KNeighborsClassifier.html\n",
    "\n",
    "Compute the accuracy score of the proposed model using the training dataset. Can we conclude that the model is good? Why?\n",
    "\n",
    "https://scikit-learn.org/stable/modules/generated/sklearn.metrics.accuracy_score.html"
   ]
  },
  {
   "cell_type": "code",
   "execution_count": null,
   "metadata": {
    "id": "dDDqshqUWvWg"
   },
   "outputs": [
    {
     "name": "stdout",
     "output_type": "stream",
     "text": [
      "Fit score: 1.0\n"
     ]
    }
   ],
   "source": [
    "from sklearn.neighbors import KNeighborsClassifier\n",
    "from sklearn.metrics import accuracy_score\n",
    "\n",
    "neigh = KNeighborsClassifier(n_neighbors=1)\n",
    "neigh.fit(x, y)\n",
    "\n",
    "y_fit = neigh.predict(x)\n",
    "fit_score = accuracy_score(y, y_fit)\n",
    "print(f\"Fit score: {fit_score}\")\n",
    "\n",
    "# We cannot conclude that the model is good because we are computing the score with the same data used for \"training\""
   ]
  },
  {
   "cell_type": "markdown",
   "metadata": {
    "id": "n2iJ-SOkYYXg"
   },
   "source": [
    "**2)** Split the data in training & validation subsets. Select 70% of the data as training data, the rest as validation. You may consider the following function\n",
    "\n",
    "https://scikit-learn.org/stable/modules/generated/sklearn.model_selection.train_test_split.html\n",
    "\n",
    "Train again the model with the training subset.  Compute the accuracy score of the new  model using the validation subset. Is this score different from the previous one? Why?"
   ]
  },
  {
   "cell_type": "code",
   "execution_count": 17,
   "metadata": {
    "id": "5KNK2JOoZb7p"
   },
   "outputs": [
    {
     "name": "stdout",
     "output_type": "stream",
     "text": [
      "Fit score: 0.9111111111111111\n"
     ]
    }
   ],
   "source": [
    "from sklearn.model_selection import train_test_split\n",
    "\n",
    "x_train, x_test, y_train, y_test = train_test_split(x, y, train_size=0.7, random_state=46)\n",
    "\n",
    "neigh.fit(x_train, y_train)\n",
    "y_fit = neigh.predict(x_test)\n",
    "\n",
    "fit_score = accuracy_score(y_test, y_fit)\n",
    "print(f\"Fit score: {fit_score}\")"
   ]
  },
  {
   "cell_type": "markdown",
   "metadata": {
    "id": "ltOhZ5-tTS7R"
   },
   "source": [
    "**3)** Compute the multi-class confusion matrix of the model using the validation data. Additionally, compute the precision and recall for each class. You may consider the following:\n",
    "\n",
    "https://scikit-learn.org/stable/modules/model_evaluation.html#scoring-parameter\n",
    "\n",
    "\n"
   ]
  },
  {
   "cell_type": "code",
   "execution_count": null,
   "metadata": {
    "id": "nhb3atmYU9vW"
   },
   "outputs": [
    {
     "name": "stdout",
     "output_type": "stream",
     "text": [
      "Recall: [1.         0.92307692 0.8       ]\n",
      "Precision: [1.         0.8        0.92307692]\n"
     ]
    },
    {
     "data": {
      "image/png": "[encoded data removed]",
      "text/plain": [
       "<Figure size 640x480 with 2 Axes>"
      ]
     },
     "metadata": {},
     "output_type": "display_data"
    }
   ],
   "source": [
    "from sklearn.metrics import recall_score, precision_score, confusion_matrix, ConfusionMatrixDisplay\n",
    "\n",
    "C = confusion_matrix(y_test, y_fit)\n",
    "disp = ConfusionMatrixDisplay(C)\n",
    "disp.plot()\n",
    "\n",
    "# Compute Recall & Precision\n",
    "recall = recall_score(y_test, y_fit, average=None)\n",
    "precision = precision_score(y_test, y_fit, average=None)\n",
    "print(f\"Recall: {recall}\\nPrecision: {precision}\")"
   ]
  },
  {
   "cell_type": "markdown",
   "metadata": {
    "id": "oV8ThnOIYRGG"
   },
   "source": [
    "**4)** Implement a 20-fold cross-validation algorithm on the model. Validate (simultaneously) the precision and the recall of the model. You may consider the following:\n",
    "\n",
    "https://scikit-learn.org/stable/modules/generated/sklearn.model_selection.cross_validate.html\n",
    "\n",
    "For the k-fold cross-validation do you need to use only the training data, only the validation data or the full dataset?"
   ]
  },
  {
   "cell_type": "code",
   "execution_count": 29,
   "metadata": {
    "id": "lqkCE-G6YR9d"
   },
   "outputs": [
    {
     "name": "stdout",
     "output_type": "stream",
     "text": [
      "{'fit_time': array([0.00072694, 0.00055933, 0.0005312 , 0.00056553, 0.00054526,\n",
      "       0.00046563, 0.0004282 , 0.00066257, 0.00047731, 0.00076413,\n",
      "       0.00068498, 0.00042057, 0.0004251 , 0.00046158, 0.00043797,\n",
      "       0.00056267, 0.00053811, 0.00043154, 0.00085282, 0.00064874]), 'score_time': array([0.00366163, 0.00310445, 0.00295663, 0.00413489, 0.00273013,\n",
      "       0.00273538, 0.00291753, 0.00370908, 0.00307178, 0.00309873,\n",
      "       0.0026958 , 0.00246239, 0.00258279, 0.00256371, 0.00232887,\n",
      "       0.00350118, 0.00305438, 0.00261545, 0.00321865, 0.00325537]), 'test_precision_macro': array([1.        , 1.        , 0.88888889, 1.        , 1.        ,\n",
      "       1.        , 0.88888889, 1.        , 1.        , 1.        ,\n",
      "       0.83333333, 0.91666667, 1.        , 1.        , 0.88888889,\n",
      "       1.        , 1.        , 1.        , 1.        , 1.        ]), 'test_recall_macro': array([1.        , 1.        , 0.88888889, 1.        , 1.        ,\n",
      "       1.        , 0.88888889, 1.        , 1.        , 1.        ,\n",
      "       0.77777778, 0.83333333, 1.        , 1.        , 0.88888889,\n",
      "       1.        , 1.        , 1.        , 1.        , 1.        ])}\n",
      "\n",
      " Precision Macro mean: 0.9708333333333334\n",
      "\n",
      " Recall Macro mean: 0.9638888888888889\n"
     ]
    }
   ],
   "source": [
    "# For k-fold cross validation, only the training data is used (https://scikit-learn.org/stable/modules/cross_validation.html)\n",
    "\n",
    "from sklearn.model_selection import cross_validate\n",
    "\n",
    "scoring = [\"precision_macro\", \"recall_macro\"] # define scroing strategies\n",
    "\n",
    "# Cross validate (this function separates the dataset into test/train data and performs k-fold cross-validation)\n",
    "scores = cross_validate(neigh, x, y, cv=20, scoring=scoring)\n",
    "print(scores)\n",
    "\n",
    "prec_mean = scores[\"test_precision_macro\"].mean()\n",
    "rec_mean  = scores[\"test_recall_macro\"].mean()\n",
    "\n",
    "print(f\"\\n Precision Macro mean: {prec_mean}\")\n",
    "print(f\"\\n Recall Macro mean: {rec_mean}\")"
   ]
  },
  {
   "cell_type": "markdown",
   "metadata": {
    "id": "7ya_PyuhvVId"
   },
   "source": [
    "# **Task 2: (Open Problem) Classification model performance analysis on two additional data sets**\n",
    "\n",
    "For this task, you must use all your available tools to fit, evaluate, and refine a k-NN classification model for each of the following datasets (one model per dataset).\n",
    "\n",
    "https://scikit-learn.org/stable/modules/generated/sklearn.datasets.load_breast_cancer.html#sklearn.datasets.load_breast_cancer\n",
    "\n",
    "http://scikit-learn.org/stable/modules/generated/sklearn.datasets.load_wine.html#sklearn.datasets.load_wine\n",
    "\n",
    "During this task you may consider the following points:\n",
    "\n",
    "1) Try to visualize the data. Is your problem a binary classification or a multi-class classification problem? Is the dataset/problem balanced and symmetric?\n",
    "\n",
    "2) Select a good performance indicator in order to evaluate the model (accuracy, recall, precision, etc.).\n",
    "\n",
    "3) Select a good strategy to validate the model. You may consider hold-out data, a k-fold cross validation approach or a combination of both.\n",
    "\n",
    "4) Modify the hyperparameters of the model in order to improve the performance.\n"
   ]
  },
  {
   "attachments": {
    "image.png": {
     "image/png": "[encoded data removed]"
    }
   },
   "cell_type": "markdown",
   "metadata": {},
   "source": [
    "# Breast Cancer Dataset\n",
    "\n",
    "![image.png](attachment:image.png)"
   ]
  },
  {
   "cell_type": "code",
   "execution_count": null,
   "metadata": {
    "id": "TmL3hPswvlF9"
   },
   "outputs": [
    {
     "data": {
      "text/html": [
       "<div>\n",
       "<style scoped>\n",
       "    .dataframe tbody tr th:only-of-type {\n",
       "        vertical-align: middle;\n",
       "    }\n",
       "\n",
       "    .dataframe tbody tr th {\n",
       "        vertical-align: top;\n",
       "    }\n",
       "\n",
       "    .dataframe thead th {\n",
       "        text-align: right;\n",
       "    }\n",
       "</style>\n",
       "<table border=\"1\" class=\"dataframe\">\n",
       "  <thead>\n",
       "    <tr style=\"text-align: right;\">\n",
       "      <th></th>\n",
       "      <th>mean radius</th>\n",
       "      <th>mean texture</th>\n",
       "      <th>mean perimeter</th>\n",
       "      <th>mean area</th>\n",
       "      <th>mean smoothness</th>\n",
       "      <th>mean compactness</th>\n",
       "      <th>mean concavity</th>\n",
       "      <th>mean concave points</th>\n",
       "      <th>mean symmetry</th>\n",
       "      <th>mean fractal dimension</th>\n",
       "      <th>...</th>\n",
       "      <th>worst perimeter</th>\n",
       "      <th>worst area</th>\n",
       "      <th>worst smoothness</th>\n",
       "      <th>worst compactness</th>\n",
       "      <th>worst concavity</th>\n",
       "      <th>worst concave points</th>\n",
       "      <th>worst symmetry</th>\n",
       "      <th>worst fractal dimension</th>\n",
       "      <th>class</th>\n",
       "      <th>count</th>\n",
       "    </tr>\n",
       "  </thead>\n",
       "  <tbody>\n",
       "    <tr>\n",
       "      <th>0</th>\n",
       "      <td>6.981</td>\n",
       "      <td>13.43</td>\n",
       "      <td>43.79</td>\n",
       "      <td>143.5</td>\n",
       "      <td>0.11700</td>\n",
       "      <td>0.07568</td>\n",
       "      <td>0.00000</td>\n",
       "      <td>0.00000</td>\n",
       "      <td>0.1930</td>\n",
       "      <td>0.07818</td>\n",
       "      <td>...</td>\n",
       "      <td>50.41</td>\n",
       "      <td>185.2</td>\n",
       "      <td>0.1584</td>\n",
       "      <td>0.12020</td>\n",
       "      <td>0.00000</td>\n",
       "      <td>0.00000</td>\n",
       "      <td>0.2932</td>\n",
       "      <td>0.09382</td>\n",
       "      <td>1</td>\n",
       "      <td>1</td>\n",
       "    </tr>\n",
       "    <tr>\n",
       "      <th>1</th>\n",
       "      <td>14.860</td>\n",
       "      <td>16.94</td>\n",
       "      <td>94.89</td>\n",
       "      <td>673.7</td>\n",
       "      <td>0.08924</td>\n",
       "      <td>0.07074</td>\n",
       "      <td>0.03346</td>\n",
       "      <td>0.02877</td>\n",
       "      <td>0.1573</td>\n",
       "      <td>0.05703</td>\n",
       "      <td>...</td>\n",
       "      <td>102.30</td>\n",
       "      <td>777.5</td>\n",
       "      <td>0.1218</td>\n",
       "      <td>0.15500</td>\n",
       "      <td>0.12200</td>\n",
       "      <td>0.07971</td>\n",
       "      <td>0.2525</td>\n",
       "      <td>0.06827</td>\n",
       "      <td>1</td>\n",
       "      <td>1</td>\n",
       "    </tr>\n",
       "    <tr>\n",
       "      <th>2</th>\n",
       "      <td>14.710</td>\n",
       "      <td>21.59</td>\n",
       "      <td>95.55</td>\n",
       "      <td>656.9</td>\n",
       "      <td>0.11370</td>\n",
       "      <td>0.13650</td>\n",
       "      <td>0.12930</td>\n",
       "      <td>0.08123</td>\n",
       "      <td>0.2027</td>\n",
       "      <td>0.06758</td>\n",
       "      <td>...</td>\n",
       "      <td>115.70</td>\n",
       "      <td>985.5</td>\n",
       "      <td>0.1368</td>\n",
       "      <td>0.42900</td>\n",
       "      <td>0.35870</td>\n",
       "      <td>0.18340</td>\n",
       "      <td>0.3698</td>\n",
       "      <td>0.10940</td>\n",
       "      <td>0</td>\n",
       "      <td>1</td>\n",
       "    </tr>\n",
       "    <tr>\n",
       "      <th>3</th>\n",
       "      <td>14.740</td>\n",
       "      <td>25.42</td>\n",
       "      <td>94.70</td>\n",
       "      <td>668.6</td>\n",
       "      <td>0.08275</td>\n",
       "      <td>0.07214</td>\n",
       "      <td>0.04105</td>\n",
       "      <td>0.03027</td>\n",
       "      <td>0.1840</td>\n",
       "      <td>0.05680</td>\n",
       "      <td>...</td>\n",
       "      <td>107.40</td>\n",
       "      <td>826.4</td>\n",
       "      <td>0.1060</td>\n",
       "      <td>0.13760</td>\n",
       "      <td>0.16110</td>\n",
       "      <td>0.10950</td>\n",
       "      <td>0.2722</td>\n",
       "      <td>0.06956</td>\n",
       "      <td>1</td>\n",
       "      <td>1</td>\n",
       "    </tr>\n",
       "    <tr>\n",
       "      <th>4</th>\n",
       "      <td>14.760</td>\n",
       "      <td>14.74</td>\n",
       "      <td>94.87</td>\n",
       "      <td>668.7</td>\n",
       "      <td>0.08875</td>\n",
       "      <td>0.07780</td>\n",
       "      <td>0.04608</td>\n",
       "      <td>0.03528</td>\n",
       "      <td>0.1521</td>\n",
       "      <td>0.05912</td>\n",
       "      <td>...</td>\n",
       "      <td>114.20</td>\n",
       "      <td>880.8</td>\n",
       "      <td>0.1220</td>\n",
       "      <td>0.20090</td>\n",
       "      <td>0.21510</td>\n",
       "      <td>0.12510</td>\n",
       "      <td>0.3109</td>\n",
       "      <td>0.08187</td>\n",
       "      <td>1</td>\n",
       "      <td>1</td>\n",
       "    </tr>\n",
       "    <tr>\n",
       "      <th>...</th>\n",
       "      <td>...</td>\n",
       "      <td>...</td>\n",
       "      <td>...</td>\n",
       "      <td>...</td>\n",
       "      <td>...</td>\n",
       "      <td>...</td>\n",
       "      <td>...</td>\n",
       "      <td>...</td>\n",
       "      <td>...</td>\n",
       "      <td>...</td>\n",
       "      <td>...</td>\n",
       "      <td>...</td>\n",
       "      <td>...</td>\n",
       "      <td>...</td>\n",
       "      <td>...</td>\n",
       "      <td>...</td>\n",
       "      <td>...</td>\n",
       "      <td>...</td>\n",
       "      <td>...</td>\n",
       "      <td>...</td>\n",
       "      <td>...</td>\n",
       "    </tr>\n",
       "    <tr>\n",
       "      <th>564</th>\n",
       "      <td>12.200</td>\n",
       "      <td>15.21</td>\n",
       "      <td>78.01</td>\n",
       "      <td>457.9</td>\n",
       "      <td>0.08673</td>\n",
       "      <td>0.06545</td>\n",
       "      <td>0.01994</td>\n",
       "      <td>0.01692</td>\n",
       "      <td>0.1638</td>\n",
       "      <td>0.06129</td>\n",
       "      <td>...</td>\n",
       "      <td>91.11</td>\n",
       "      <td>583.1</td>\n",
       "      <td>0.1256</td>\n",
       "      <td>0.19280</td>\n",
       "      <td>0.11670</td>\n",
       "      <td>0.05556</td>\n",
       "      <td>0.2661</td>\n",
       "      <td>0.07961</td>\n",
       "      <td>1</td>\n",
       "      <td>1</td>\n",
       "    </tr>\n",
       "    <tr>\n",
       "      <th>565</th>\n",
       "      <td>12.190</td>\n",
       "      <td>13.29</td>\n",
       "      <td>79.08</td>\n",
       "      <td>455.8</td>\n",
       "      <td>0.10660</td>\n",
       "      <td>0.09509</td>\n",
       "      <td>0.02855</td>\n",
       "      <td>0.02882</td>\n",
       "      <td>0.1880</td>\n",
       "      <td>0.06471</td>\n",
       "      <td>...</td>\n",
       "      <td>91.38</td>\n",
       "      <td>545.2</td>\n",
       "      <td>0.1427</td>\n",
       "      <td>0.25850</td>\n",
       "      <td>0.09915</td>\n",
       "      <td>0.08187</td>\n",
       "      <td>0.3469</td>\n",
       "      <td>0.09241</td>\n",
       "      <td>1</td>\n",
       "      <td>1</td>\n",
       "    </tr>\n",
       "    <tr>\n",
       "      <th>566</th>\n",
       "      <td>12.180</td>\n",
       "      <td>20.52</td>\n",
       "      <td>77.22</td>\n",
       "      <td>458.7</td>\n",
       "      <td>0.08013</td>\n",
       "      <td>0.04038</td>\n",
       "      <td>0.02383</td>\n",
       "      <td>0.01770</td>\n",
       "      <td>0.1739</td>\n",
       "      <td>0.05677</td>\n",
       "      <td>...</td>\n",
       "      <td>84.58</td>\n",
       "      <td>547.8</td>\n",
       "      <td>0.1123</td>\n",
       "      <td>0.08862</td>\n",
       "      <td>0.11450</td>\n",
       "      <td>0.07431</td>\n",
       "      <td>0.2694</td>\n",
       "      <td>0.06878</td>\n",
       "      <td>1</td>\n",
       "      <td>1</td>\n",
       "    </tr>\n",
       "    <tr>\n",
       "      <th>567</th>\n",
       "      <td>12.180</td>\n",
       "      <td>17.84</td>\n",
       "      <td>77.79</td>\n",
       "      <td>451.1</td>\n",
       "      <td>0.10450</td>\n",
       "      <td>0.07057</td>\n",
       "      <td>0.02490</td>\n",
       "      <td>0.02941</td>\n",
       "      <td>0.1900</td>\n",
       "      <td>0.06635</td>\n",
       "      <td>...</td>\n",
       "      <td>82.14</td>\n",
       "      <td>495.2</td>\n",
       "      <td>0.1140</td>\n",
       "      <td>0.09358</td>\n",
       "      <td>0.04980</td>\n",
       "      <td>0.05882</td>\n",
       "      <td>0.2227</td>\n",
       "      <td>0.07376</td>\n",
       "      <td>1</td>\n",
       "      <td>1</td>\n",
       "    </tr>\n",
       "    <tr>\n",
       "      <th>568</th>\n",
       "      <td>28.110</td>\n",
       "      <td>18.47</td>\n",
       "      <td>188.50</td>\n",
       "      <td>2499.0</td>\n",
       "      <td>0.11420</td>\n",
       "      <td>0.15160</td>\n",
       "      <td>0.32010</td>\n",
       "      <td>0.15950</td>\n",
       "      <td>0.1648</td>\n",
       "      <td>0.05525</td>\n",
       "      <td>...</td>\n",
       "      <td>188.50</td>\n",
       "      <td>2499.0</td>\n",
       "      <td>0.1142</td>\n",
       "      <td>0.15160</td>\n",
       "      <td>0.32010</td>\n",
       "      <td>0.15950</td>\n",
       "      <td>0.1648</td>\n",
       "      <td>0.05525</td>\n",
       "      <td>0</td>\n",
       "      <td>1</td>\n",
       "    </tr>\n",
       "  </tbody>\n",
       "</table>\n",
       "<p>569 rows × 32 columns</p>\n",
       "</div>"
      ],
      "text/plain": [
       "     mean radius  mean texture  mean perimeter  mean area  mean smoothness  \\\n",
       "0          6.981         13.43           43.79      143.5          0.11700   \n",
       "1         14.860         16.94           94.89      673.7          0.08924   \n",
       "2         14.710         21.59           95.55      656.9          0.11370   \n",
       "3         14.740         25.42           94.70      668.6          0.08275   \n",
       "4         14.760         14.74           94.87      668.7          0.08875   \n",
       "..           ...           ...             ...        ...              ...   \n",
       "564       12.200         15.21           78.01      457.9          0.08673   \n",
       "565       12.190         13.29           79.08      455.8          0.10660   \n",
       "566       12.180         20.52           77.22      458.7          0.08013   \n",
       "567       12.180         17.84           77.79      451.1          0.10450   \n",
       "568       28.110         18.47          188.50     2499.0          0.11420   \n",
       "\n",
       "     mean compactness  mean concavity  mean concave points  mean symmetry  \\\n",
       "0             0.07568         0.00000              0.00000         0.1930   \n",
       "1             0.07074         0.03346              0.02877         0.1573   \n",
       "2             0.13650         0.12930              0.08123         0.2027   \n",
       "3             0.07214         0.04105              0.03027         0.1840   \n",
       "4             0.07780         0.04608              0.03528         0.1521   \n",
       "..                ...             ...                  ...            ...   \n",
       "564           0.06545         0.01994              0.01692         0.1638   \n",
       "565           0.09509         0.02855              0.02882         0.1880   \n",
       "566           0.04038         0.02383              0.01770         0.1739   \n",
       "567           0.07057         0.02490              0.02941         0.1900   \n",
       "568           0.15160         0.32010              0.15950         0.1648   \n",
       "\n",
       "     mean fractal dimension  ...  worst perimeter  worst area  \\\n",
       "0                   0.07818  ...            50.41       185.2   \n",
       "1                   0.05703  ...           102.30       777.5   \n",
       "2                   0.06758  ...           115.70       985.5   \n",
       "3                   0.05680  ...           107.40       826.4   \n",
       "4                   0.05912  ...           114.20       880.8   \n",
       "..                      ...  ...              ...         ...   \n",
       "564                 0.06129  ...            91.11       583.1   \n",
       "565                 0.06471  ...            91.38       545.2   \n",
       "566                 0.05677  ...            84.58       547.8   \n",
       "567                 0.06635  ...            82.14       495.2   \n",
       "568                 0.05525  ...           188.50      2499.0   \n",
       "\n",
       "     worst smoothness  worst compactness  worst concavity  \\\n",
       "0              0.1584            0.12020          0.00000   \n",
       "1              0.1218            0.15500          0.12200   \n",
       "2              0.1368            0.42900          0.35870   \n",
       "3              0.1060            0.13760          0.16110   \n",
       "4              0.1220            0.20090          0.21510   \n",
       "..                ...                ...              ...   \n",
       "564            0.1256            0.19280          0.11670   \n",
       "565            0.1427            0.25850          0.09915   \n",
       "566            0.1123            0.08862          0.11450   \n",
       "567            0.1140            0.09358          0.04980   \n",
       "568            0.1142            0.15160          0.32010   \n",
       "\n",
       "     worst concave points  worst symmetry  worst fractal dimension  class  \\\n",
       "0                 0.00000          0.2932                  0.09382      1   \n",
       "1                 0.07971          0.2525                  0.06827      1   \n",
       "2                 0.18340          0.3698                  0.10940      0   \n",
       "3                 0.10950          0.2722                  0.06956      1   \n",
       "4                 0.12510          0.3109                  0.08187      1   \n",
       "..                    ...             ...                      ...    ...   \n",
       "564               0.05556          0.2661                  0.07961      1   \n",
       "565               0.08187          0.3469                  0.09241      1   \n",
       "566               0.07431          0.2694                  0.06878      1   \n",
       "567               0.05882          0.2227                  0.07376      1   \n",
       "568               0.15950          0.1648                  0.05525      0   \n",
       "\n",
       "     count  \n",
       "0        1  \n",
       "1        1  \n",
       "2        1  \n",
       "3        1  \n",
       "4        1  \n",
       "..     ...  \n",
       "564      1  \n",
       "565      1  \n",
       "566      1  \n",
       "567      1  \n",
       "568      1  \n",
       "\n",
       "[569 rows x 32 columns]"
      ]
     },
     "execution_count": 5,
     "metadata": {},
     "output_type": "execute_result"
    }
   ],
   "source": [
    "from sklearn.datasets import load_breast_cancer\n",
    "import pandas as pd\n",
    "import seaborn as sns\n",
    "\n",
    "# Breast cancer dataset\n",
    "breast = load_breast_cancer()\n",
    "x = breast.data\n",
    "y = breast.target\n",
    "breast \n",
    "\n",
    "df = pd.DataFrame(x, columns=breast.feature_names)\n",
    "df[\"class\"] = y\n",
    "\n",
    "# sns.pairplot(df,hue='class') # too much overhead\n",
    "\n",
    "# Check balance\n",
    "\n",
    "\n",
    "# NOTES:\n",
    "#   - binary classification problem\n",
    "#   - balanced ???\n",
    "#   - symmetric ??? "
   ]
  },
  {
   "attachments": {
    "image.png": {
     "image/png": "[encoded data removed]"
    }
   },
   "cell_type": "markdown",
   "metadata": {},
   "source": [
    "# Wine Dataset\n",
    "\n",
    "![image.png](attachment:image.png)"
   ]
  },
  {
   "cell_type": "code",
   "execution_count": null,
   "metadata": {},
   "outputs": [],
   "source": [
    "from sklearn.datasets import load_wine\n",
    "\n",
    "# Breast cancer dataset\n",
    "wine = load_wine()\n",
    "x = wine.data\n",
    "y = wine.target"
   ]
  }
 ],
 "metadata": {
  "colab": {
   "authorship_tag": "ABX9TyOfH1JDSRcdtiI8Ml/vPCxL",
   "provenance": []
  },
  "kernelspec": {
   "display_name": ".venv",
   "language": "python",
   "name": "python3"
  },
  "language_info": {
   "codemirror_mode": {
    "name": "ipython",
    "version": 3
   },
   "file_extension": ".py",
   "mimetype": "text/x-python",
   "name": "python",
   "nbconvert_exporter": "python",
   "pygments_lexer": "ipython3",
   "version": "3.8.10"
  }
 },
 "nbformat": 4,
 "nbformat_minor": 0
}
